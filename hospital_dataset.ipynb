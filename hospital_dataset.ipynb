{
  "nbformat": 4,
  "nbformat_minor": 0,
  "metadata": {
    "colab": {
      "provenance": [],
      "authorship_tag": "ABX9TyOt3mRdj1sFW7J/5KvofmL+",
      "include_colab_link": true
    },
    "kernelspec": {
      "name": "python3",
      "display_name": "Python 3"
    },
    "language_info": {
      "name": "python"
    }
  },
  "cells": [
    {
      "cell_type": "markdown",
      "metadata": {
        "id": "view-in-github",
        "colab_type": "text"
      },
      "source": [
        "<a href=\"https://colab.research.google.com/github/kuriawaruchu/dummy-hospital/blob/main/hospital_dataset.ipynb\" target=\"_parent\"><img src=\"https://colab.research.google.com/assets/colab-badge.svg\" alt=\"Open In Colab\"/></a>"
      ]
    },
    {
      "cell_type": "code",
      "source": [
        "import pandas as pd\n",
        "import numpy as np\n",
        "import random\n",
        "from datetime import datetime, timedelta"
      ],
      "metadata": {
        "id": "_B5AtBWU-Fp1"
      },
      "execution_count": 1,
      "outputs": []
    },
    {
      "cell_type": "code",
      "execution_count": null,
      "metadata": {
        "id": "DY6ebU6R9u0N"
      },
      "outputs": [],
      "source": [
        "\n",
        "\n",
        "# Parameters\n",
        "n_records = 5000  # adjust as needed\n",
        "start_date = datetime(2023, 1, 1)\n",
        "end_date = datetime(2025, 8, 31)\n",
        "\n",
        "# Options\n",
        "genders = [\"Male\", \"Female\"]\n",
        "insurance_providers = [\n",
        "    \"Jubilee Health Insurance\",\n",
        "    \"Old Mutual Insurance\",\n",
        "    \"AAR Insurance\",\n",
        "    \"APA Insurance\",\n",
        "    \"CIC Insurance Group\"\n",
        "]\n",
        "doctors = [f\"Dr. {name}\" for name in [\"Achieng\", \"Kamau\", \"Omondi\", \"Mutiso\", \"Chebet\", \"Mwangi\", \"Wanjiku\", \"Njoroge\", \"Barasa\", \"Oduor\"]]\n",
        "conditions = [\"Diabetes\", \"Hypertension\", \"Obesity\", \"Asthma\", \"Cancer\", \"Tuberculosis\"]\n",
        "test_results = [\"Normal\", \"Inconclusive\", \"Abnormal\"]\n",
        "\n",
        "# Helper to generate random date\n",
        "def random_date(start, end):\n",
        "    return start + timedelta(days=random.randint(0, (end - start).days))\n",
        "\n",
        "# Generate data\n",
        "data = []\n",
        "for i in range(1, n_records + 1):\n",
        "    year = random.choice([2023, 2024, 2025])\n",
        "    patient_id = f\"{year}/{i:03d}\"\n",
        "    gender = random.choice(genders)\n",
        "    age = np.random.normal(loc=45, scale=15)  # distributed around 45 years\n",
        "    age = int(max(0, min(90, age)))  # keep between 0–90\n",
        "\n",
        "    insurance = random.choice(insurance_providers)\n",
        "    admission_date = random_date(start_date, end_date)\n",
        "    discharge_date = admission_date + timedelta(days=random.randint(1, 14))  # 1–14 days stay\n",
        "\n",
        "    # Ensure discharge_date does not go beyond end_date\n",
        "    if discharge_date > end_date:\n",
        "        discharge_date = end_date\n",
        "\n",
        "    billing_amount = max(5000, np.random.normal(loc=50000, scale=15000))  # centered around 50k\n",
        "    doctor = random.choice(doctors)\n",
        "    condition = random.choice(conditions)\n",
        "    test_result = random.choice(test_results)\n",
        "\n",
        "    data.append([\n",
        "        patient_id, gender, age, insurance,\n",
        "        admission_date.date(), discharge_date.date(),\n",
        "        int(billing_amount), doctor, condition, test_result\n",
        "    ])\n",
        "\n",
        "# Create DataFrame\n",
        "columns = [\n",
        "    \"patient_id\", \"gender\", \"age\", \"insurance_provider\",\n",
        "    \"admission_date\", \"discharge_date\", \"billing_amount\",\n",
        "    \"primary_doctor\", \"medical_condition\", \"test_result\"\n",
        "]\n",
        "df = pd.DataFrame(data, columns=columns)\n",
        "\n",
        "# Save to CSV for Power BI\n",
        "df.to_csv(\"hospital_dataset.csv\", index=False)\n",
        "\n",
        "print(\"Dataset generated: hospital_dataset.csv\")\n",
        "print(df.head(10))\n"
      ]
    }
  ]
}